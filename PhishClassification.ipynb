{
 "cells": [
  {
   "cell_type": "code",
   "execution_count": 13,
   "metadata": {},
   "outputs": [
    {
     "name": "stdout",
     "output_type": "stream",
     "text": [
      "Dataset Length : 16271\n0.6056943875460876\nFalse positive rate : 20.218440 %\nFalse negative rate : 20.635814 %\n"
     ]
    }
   ],
   "source": [
    "import pandas as pd\n",
    "from sklearn.metrics import confusion_matrix\n",
    "from sklearn.model_selection import train_test_split\n",
    "from sklearn.tree import DecisionTreeClassifier\n",
    "\n",
    "balance_data = pd.read_csv('D:/projects/phish/test_data.csv', sep=',', header=0)\n",
    "print(\"Dataset Length :\", len(balance_data))\n",
    "balance_data.head()\n",
    "X = balance_data.values[:, 2:12]\n",
    "# print(X)\n",
    "Y = balance_data.values[:, 1]\n",
    "X_train, X_test, y_train, y_test = train_test_split(X, Y, test_size=0.3)\n",
    "clf_entropy = DecisionTreeClassifier(max_depth=10)\n",
    "clf_entropy.fit(X_train, y_train)\n",
    "score = clf_entropy.score(X_test, y_test)\n",
    "print(score)\n",
    "y_pred_en = clf_entropy.predict(X)\n",
    "# print(y_pred_en)\n",
    "# print(\"Accuracy is \",accuracy_score(y_test,y_pred_en)*100)\n",
    "mt = confusion_matrix(Y, y_pred_en)\n",
    "\n",
    "print(\"False positive rate : %f %%\" % ((mt[0][1] / float(sum(mt[0]))) * 100))\n",
    "print('False negative rate : %f %%' % ((mt[1][0] / float(sum(mt[1]))) * 100))\n",
    "\n",
    "\n",
    "\n",
    "\n"
   ]
  },
  {
   "cell_type": "code",
   "execution_count": null,
   "metadata": {},
   "outputs": [],
   "source": []
  }
 ],
 "metadata": {
  "kernelspec": {
   "display_name": "Python 3",
   "language": "python",
   "name": "python3"
  },
  "language_info": {
   "codemirror_mode": {
    "name": "ipython",
    "version": 3
   },
   "file_extension": ".py",
   "mimetype": "text/x-python",
   "name": "python",
   "nbconvert_exporter": "python",
   "pygments_lexer": "ipython3",
   "version": "3.6.7"
  }
 },
 "nbformat": 4,
 "nbformat_minor": 2
}
